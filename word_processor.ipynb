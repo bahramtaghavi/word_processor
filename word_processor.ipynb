import string

# Sample static lists for articles, prepositions, and auxiliary verbs
auxiliary_verbs = ["is", "are", "was", "were", "be", "been", "being", "have", "has", "had", "do", "does", "did", "will", "shall", "would", "should", "can", "could", "might", "must"]
prepositions = ["in", "on", "at", "by", "with", "about", "under", "over", "between", "among", "of"]
articles = ["the", "a", "an"]
conjunctions = ["for", "and", "nor", "but", "or", "yet", "so", "after", "although", "as", "because", "before", "if", "since", "though", "unless", "until", "when", "whenever", "where", "wherever", "while"]

def remove_special_chars(text):
  special_chars = "!@#$%^&*()_+=-[]{}|;:,.<>?/'’‘“”"
  
  new_text = ''
  for char in text:
    if char not in special_chars:
      new_text += char
  return new_text

# Function to determine word type dynamically
def findWordType(word, previous_word=None, next_word=None):
    # Articles and Prepositions (static list-based detection)
    if word in articles:
        return "Article"

    if word in prepositions:
        return "Preposition"
    
    # Auxiliary verbs (static list-based detection)
    if word in auxiliary_verbs:
        return "Auxiliary Verb"

    # Detecting Conjunction
    if word in conjunction:
        return "Conjunction"

    # Verb Detection (simple rule-based)
    # If the word is followed by an auxiliary verb, it's likely part of a verb phrase
    if previous_word and previous_word.lower() in auxiliary_verbs:
        return "Verb"
    
    # Detect base form verbs and conjugations (-ing, -ed, -s)
    if word.endswith("ing") or word.endswith("ed") or word.endswith("s"):
        return "Verb"
    
    # Check for common nouns
    if previous_word in articles or previous_word in prepositions:
        return "Noun"
    
    # Adjective and Adverb Detection
    if next_word and next_word in prepositions or next_word in ["noun", "nouns"]:
        return "Adjective"
    
    # If no clear match, return "Unknown" or potentially Noun
    return "Noun"  # Default guess

# Function to process a sentence and classify each word's 
def process_text(text):
    words = text.split()  # Split into words
    word_types = {}
    
    for i, word in enumerate(words):
        previous_word = words[i - 1] if i > 0 else None
        next_word = words[i + 1] if i < len(words) - 1 else None
        word = remove_special_chars(word)
        word_type = detect_word_type(word, previous_word, next_word)
        word_types[word] = word_type

    return word_types

def frequency_detect(word):
    count = 0
    word =  word.strip().lower()
    for key, _ in word_types.items():
        key = key.strip().lower()
        if key == word: 
           count += 1
    print(word, count)
    return count

# Example text input
text = "one of the main issues that degrowth in general is concerned with inequality and its reduction (Hickel, 2021). Hence, distribution and the question of redistribution of wealth, income and resources have continued to resurface in the degrowth literature of (Cosme et al., 2017; Martinez- Alier, 2009; Spangenberg, 2010; Xue et al., 2012). Not so prominently discussed within degrowth, but not less relavent, is the question of money and its role for economic growth itself (see Fig. 1 in Kallis et al., 2018; Strunz et al., 2017). In particular, if money and the monetary system as such indeed fueled the need for economic growth, i. e. if a ‘monetary growth imperative’ existed, as some economists argue (e.g., Binswanger, 2013), there is a pressing need for analyses and proposals on how to design a monetary system that aligns better with the degrowth agenda. Given the immediate relevance of the monetary growth imperative to degrowth, one would expect that degrowth scholarship would prominently address the issue of money. The same applies to the development of concrete policies regarding district issues or monetary system design. However, there is a notable lack in this area. Of concrete policy proposals from the regrowth literature has been lamented repeatedly over the years in different contexts (Berg and Hukkinen, 2011; Bonaiutl, 2018; Demaria et al., 2013; Joutsenvirta, 2016; van den Bergh, 2011), and previous reviews of the degrowth literature have confirmed this on a general level to some extent (Cosme et al, 2017; Fitzpatrick et al., 2022; Sekutova et al., 2013; Vlderia et al., 2014). In particular, a wide variety of different kinds of goals, objectives and in struments proposed in degree with has been attested, as weak as a’commonplace lack of precision in proposals (Fizpatrick el al., 2022, p. 8). One possible explanation for this lack can be found in the relation- ship between degrowth and the state. Given the undertheorized role of the state as a central player in the degrowth transition (Demaria et al., 2019; D’Alisa and Kallis, 2020) degrowth faces “a tension between viewing the state as incapable of initiating transformational change and making a political appeal to it to do precisely this viatargeted eco-social policies” leaving “a lack in research on the strategic implications arising from conceptualizationsof the state and state-civil society relations within degrowth/postgrowth approaches” (Koch, 2020 p. 1). clusters based on similarities in conceptual vocabulary."
word_types = process_text(text)
import pandas as pd
row = {}
for key, value in word_types.items():
        row[key] = {
            "type": value,
            "freq": frequency_detect(key),
            "length": len(key)
        }
    
#------------------------------------Bahram-------------------------------
from tabulate import tabulate


def get_word_attributes(word_dict):
    table_data = []
    for word, type in row.items():
        table_data.append([word, type['type'], type['freq'], type['length']])
    return table_data

word_attributes_table = get_word_attributes(word_types)

headers = ["Word", "Type", "Frequency", "Length"]
print(tabulate(word_attributes_table, headers, tablefmt="grid"))

